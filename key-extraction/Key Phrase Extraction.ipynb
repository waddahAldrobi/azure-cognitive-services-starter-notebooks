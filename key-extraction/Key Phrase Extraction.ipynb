{
 "cells": [
  {
   "cell_type": "code",
   "execution_count": 2,
   "metadata": {},
   "outputs": [],
   "source": [
    "import requests\n",
    "import json"
   ]
  },
  {
   "cell_type": "markdown",
   "metadata": {},
   "source": [
    "# Key Phrase Extraction v3.0"
   ]
  },
  {
   "cell_type": "code",
   "execution_count": 1,
   "metadata": {},
   "outputs": [
    {
     "ename": "SyntaxError",
     "evalue": "invalid syntax (<ipython-input-1-7243c524deaf>, line 1)",
     "output_type": "error",
     "traceback": [
      "\u001b[1;36m  File \u001b[1;32m\"<ipython-input-1-7243c524deaf>\"\u001b[1;36m, line \u001b[1;32m1\u001b[0m\n\u001b[1;33m    external_ip = #External IP\u001b[0m\n\u001b[1;37m                  ^\u001b[0m\n\u001b[1;31mSyntaxError\u001b[0m\u001b[1;31m:\u001b[0m invalid syntax\n"
     ]
    }
   ],
   "source": [
    "external_ip = #External IP\n",
    "port = #PORT\n",
    "api = '/text/analytics/v3.0/keyPhrases'\n",
    "endpoint = 'http://'+ external_ip +':'+ port + api"
   ]
  },
  {
   "cell_type": "code",
   "execution_count": 3,
   "metadata": {},
   "outputs": [],
   "source": [
    "# if request is in a JSON file\n",
    "\n",
    "# f = open('data.json',)\n",
    "# request = json.load(f)\n",
    "# f.close()"
   ]
  },
  {
   "cell_type": "code",
   "execution_count": 4,
   "metadata": {},
   "outputs": [],
   "source": [
    "request = {\n",
    "  \"documents\": [\n",
    "    {\n",
    "      \"language\": \"en\",\n",
    "      \"id\": \"1-en\",\n",
    "      \"text\": \"Hello world. This is some input text that I love.\"\n",
    "    },\n",
    "    {\n",
    "      \"language\": \"en\",\n",
    "      \"id\": \"2-en\",\n",
    "      \"text\": \"It's incredibly sunny outside! I'm so happy.\"\n",
    "    },\n",
    "    {\n",
    "      \"language\": \"en\",\n",
    "      \"id\": \"3-en\",\n",
    "      \"text\": \"Pike place market is my favorite Seattle attraction.\"\n",
    "    }\n",
    "  ]\n",
    "}"
   ]
  },
  {
   "cell_type": "code",
   "execution_count": 5,
   "metadata": {},
   "outputs": [],
   "source": [
    "response = requests.post(endpoint, \\\n",
    "                         headers={'accept': 'application/json'\n",
    "                         , 'Content-Type': 'application/json'},\n",
    "                         json=request)"
   ]
  },
  {
   "cell_type": "markdown",
   "metadata": {},
   "source": [
    "## Full output"
   ]
  },
  {
   "cell_type": "code",
   "execution_count": 7,
   "metadata": {},
   "outputs": [
    {
     "name": "stdout",
     "output_type": "stream",
     "text": [
      "{\n",
      "    \"documents\": [\n",
      "        {\n",
      "            \"id\": \"1-en\",\n",
      "            \"keyPhrases\": [\n",
      "                \"input text\",\n",
      "                \"world\"\n",
      "            ],\n",
      "            \"warnings\": []\n",
      "        },\n",
      "        {\n",
      "            \"id\": \"2-en\",\n",
      "            \"keyPhrases\": [\n",
      "                \"sunny outside\"\n",
      "            ],\n",
      "            \"warnings\": []\n",
      "        },\n",
      "        {\n",
      "            \"id\": \"3-en\",\n",
      "            \"keyPhrases\": [\n",
      "                \"favorite Seattle attraction\",\n",
      "                \"Pike place market\"\n",
      "            ],\n",
      "            \"warnings\": []\n",
      "        }\n",
      "    ],\n",
      "    \"errors\": [],\n",
      "    \"modelVersion\": \"2019-10-01\"\n",
      "}\n"
     ]
    }
   ],
   "source": [
    "print(json.dumps(json.loads(response.content), indent=4, sort_keys=True))"
   ]
  },
  {
   "cell_type": "markdown",
   "metadata": {},
   "source": [
    "## Output by Document"
   ]
  },
  {
   "cell_type": "code",
   "execution_count": 8,
   "metadata": {},
   "outputs": [
    {
     "data": {
      "text/plain": [
       "{'id': '1-en', 'keyPhrases': ['input text', 'world'], 'warnings': []}"
      ]
     },
     "execution_count": 8,
     "metadata": {},
     "output_type": "execute_result"
    }
   ],
   "source": [
    "json.loads(response.content)['documents'][0]"
   ]
  }
 ],
 "metadata": {
  "interpreter": {
   "hash": "7759e7fef207957389116386d7da7db59f1073768c7130ddcc94babfd9d1d69e"
  },
  "kernelspec": {
   "display_name": "Python 3.8.8 64-bit ('base': conda)",
   "name": "python3"
  },
  "language_info": {
   "codemirror_mode": {
    "name": "ipython",
    "version": 3
   },
   "file_extension": ".py",
   "mimetype": "text/x-python",
   "name": "python",
   "nbconvert_exporter": "python",
   "pygments_lexer": "ipython3",
   "version": "3.8.8"
  }
 },
 "nbformat": 4,
 "nbformat_minor": 5
}
