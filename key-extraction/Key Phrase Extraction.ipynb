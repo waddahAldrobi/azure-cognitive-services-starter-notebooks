{
 "cells": [
  {
   "cell_type": "code",
   "execution_count": 2,
   "source": [
    "import requests\r\n",
    "import json"
   ],
   "outputs": [],
   "metadata": {}
  },
  {
   "cell_type": "markdown",
   "source": [
    "# Key Phrase Extraction v3.0"
   ],
   "metadata": {}
  },
  {
   "cell_type": "code",
   "execution_count": 1,
   "source": [
    "external_ip = #External IP\r\n",
    "port = #PORT\r\n",
    "api = '/text/analytics/v3.0/keyPhrases'\r\n",
    "endpoint = 'http://'+ external_ip +':'+ port + api"
   ],
   "outputs": [
    {
     "output_type": "error",
     "ename": "SyntaxError",
     "evalue": "invalid syntax (<ipython-input-1-7243c524deaf>, line 1)",
     "traceback": [
      "\u001b[1;36m  File \u001b[1;32m\"<ipython-input-1-7243c524deaf>\"\u001b[1;36m, line \u001b[1;32m1\u001b[0m\n\u001b[1;33m    external_ip = #External IP\u001b[0m\n\u001b[1;37m                  ^\u001b[0m\n\u001b[1;31mSyntaxError\u001b[0m\u001b[1;31m:\u001b[0m invalid syntax\n"
     ]
    }
   ],
   "metadata": {}
  },
  {
   "cell_type": "code",
   "execution_count": 3,
   "source": [
    "# if request is in a JSON file\r\n",
    "\r\n",
    "# f = open('data.json',)\r\n",
    "# request = json.load(f)\r\n",
    "# f.close()"
   ],
   "outputs": [],
   "metadata": {}
  },
  {
   "cell_type": "code",
   "execution_count": 4,
   "source": [
    "request = {\r\n",
    "  \"documents\": [\r\n",
    "    {\r\n",
    "      \"language\": \"en\",\r\n",
    "      \"id\": \"1-en\",\r\n",
    "      \"text\": \"Hello world. This is some input text that I love.\"\r\n",
    "    },\r\n",
    "    {\r\n",
    "      \"language\": \"en\",\r\n",
    "      \"id\": \"2-en\",\r\n",
    "      \"text\": \"It's incredibly sunny outside! I'm so happy.\"\r\n",
    "    },\r\n",
    "    {\r\n",
    "      \"language\": \"en\",\r\n",
    "      \"id\": \"3-en\",\r\n",
    "      \"text\": \"Pike place market is my favorite Seattle attraction.\"\r\n",
    "    }\r\n",
    "  ]\r\n",
    "}"
   ],
   "outputs": [],
   "metadata": {}
  },
  {
   "cell_type": "code",
   "execution_count": 5,
   "source": [
    "response = requests.post(endpoint, \\\r\n",
    "                         headers={'accept': 'application/json'\r\n",
    "                         , 'Content-Type': 'application/json'},\r\n",
    "                         json=request)"
   ],
   "outputs": [],
   "metadata": {}
  },
  {
   "cell_type": "markdown",
   "source": [
    "## Full output"
   ],
   "metadata": {}
  },
  {
   "cell_type": "code",
   "execution_count": 7,
   "source": [
    "print(json.dumps(json.loads(response.content), indent=4, sort_keys=True))"
   ],
   "outputs": [
    {
     "output_type": "stream",
     "name": "stdout",
     "text": [
      "{\n",
      "    \"documents\": [\n",
      "        {\n",
      "            \"id\": \"1-en\",\n",
      "            \"keyPhrases\": [\n",
      "                \"input text\",\n",
      "                \"world\"\n",
      "            ],\n",
      "            \"warnings\": []\n",
      "        },\n",
      "        {\n",
      "            \"id\": \"2-en\",\n",
      "            \"keyPhrases\": [\n",
      "                \"sunny outside\"\n",
      "            ],\n",
      "            \"warnings\": []\n",
      "        },\n",
      "        {\n",
      "            \"id\": \"3-en\",\n",
      "            \"keyPhrases\": [\n",
      "                \"favorite Seattle attraction\",\n",
      "                \"Pike place market\"\n",
      "            ],\n",
      "            \"warnings\": []\n",
      "        }\n",
      "    ],\n",
      "    \"errors\": [],\n",
      "    \"modelVersion\": \"2019-10-01\"\n",
      "}\n"
     ]
    }
   ],
   "metadata": {}
  },
  {
   "cell_type": "markdown",
   "source": [
    "## Output by Document"
   ],
   "metadata": {}
  },
  {
   "cell_type": "code",
   "execution_count": 8,
   "source": [
    "json.loads(response.content)['documents'][0]"
   ],
   "outputs": [
    {
     "output_type": "execute_result",
     "data": {
      "text/plain": [
       "{'id': '1-en', 'keyPhrases': ['input text', 'world'], 'warnings': []}"
      ]
     },
     "metadata": {},
     "execution_count": 8
    }
   ],
   "metadata": {}
  }
 ],
 "metadata": {
  "kernelspec": {
   "name": "python3",
   "display_name": "Python 3.8.8 64-bit ('base': conda)"
  },
  "language_info": {
   "codemirror_mode": {
    "name": "ipython",
    "version": 3
   },
   "file_extension": ".py",
   "mimetype": "text/x-python",
   "name": "python",
   "nbconvert_exporter": "python",
   "pygments_lexer": "ipython3",
   "version": "3.8.8"
  },
  "interpreter": {
   "hash": "7759e7fef207957389116386d7da7db59f1073768c7130ddcc94babfd9d1d69e"
  }
 },
 "nbformat": 4,
 "nbformat_minor": 5
}