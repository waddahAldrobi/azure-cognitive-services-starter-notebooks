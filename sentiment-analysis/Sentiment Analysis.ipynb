{
 "cells": [
  {
   "cell_type": "code",
   "execution_count": 2,
   "id": "0806855c",
   "metadata": {},
   "outputs": [],
   "source": [
    "import requests\n",
    "import json"
   ]
  },
  {
   "cell_type": "markdown",
   "id": "05f8a1c4",
   "metadata": {},
   "source": [
    "# Sentiment Analysis v3.0"
   ]
  },
  {
   "cell_type": "code",
   "execution_count": 21,
   "id": "10ca1897",
   "metadata": {},
   "outputs": [],
   "source": [
    "external_ip = #External IP\n",
    "port = #PORT\n",
    "api = '/text/analytics/v3.0/keyPhrases'\n",
    "endpoint = 'http://'+ external_ip +':'+ port + api"
   ]
  },
  {
   "cell_type": "code",
   "execution_count": 80,
   "id": "44e943a5",
   "metadata": {},
   "outputs": [],
   "source": [
    "# if request is in a JSON file\n",
    "\n",
    "# f = open('data.json',)\n",
    "# request = json.load(f)\n",
    "# f.close()"
   ]
  },
  {
   "cell_type": "code",
   "execution_count": 81,
   "id": "764bb76e",
   "metadata": {},
   "outputs": [],
   "source": [
    "request = {\n",
    "  \"documents\": [\n",
    "    {\n",
    "      \"language\": \"en\",\n",
    "      \"id\": \"1-en\",\n",
    "      \"text\": \"Hello world. This is some input text that I love.\"\n",
    "    },\n",
    "    {\n",
    "      \"language\": \"en\",\n",
    "      \"id\": \"2-en\",\n",
    "      \"text\": \"It's incredibly sunny outside! I'm so happy.\"\n",
    "    },\n",
    "    {\n",
    "      \"language\": \"en\",\n",
    "      \"id\": \"3-en\",\n",
    "      \"text\": \"Pike place market is my favorite Seattle attraction.\"\n",
    "    }\n",
    "  ]\n",
    "}"
   ]
  },
  {
   "cell_type": "code",
   "execution_count": 5,
   "id": "1b83b58c",
   "metadata": {},
   "outputs": [],
   "source": [
    "response = requests.post(endpoint, \\\n",
    "                         headers={'accept': 'application/json'\n",
    "                         , 'Content-Type': 'application/json'},\n",
    "                         json=request)\n"
   ]
  },
  {
   "cell_type": "markdown",
   "id": "81457a41",
   "metadata": {},
   "source": [
    "## Full output"
   ]
  },
  {
   "cell_type": "code",
   "execution_count": 8,
   "id": "b916254f",
   "metadata": {
    "scrolled": false
   },
   "outputs": [
    {
     "name": "stdout",
     "output_type": "stream",
     "text": [
      "{\n",
      "    \"documents\": [\n",
      "        {\n",
      "            \"confidenceScores\": {\n",
      "                \"negative\": 0.0,\n",
      "                \"neutral\": 0.0,\n",
      "                \"positive\": 1.0\n",
      "            },\n",
      "            \"id\": \"1-en\",\n",
      "            \"sentences\": [\n",
      "                {\n",
      "                    \"confidenceScores\": {\n",
      "                        \"negative\": 0.01,\n",
      "                        \"neutral\": 0.97,\n",
      "                        \"positive\": 0.02\n",
      "                    },\n",
      "                    \"length\": 12,\n",
      "                    \"offset\": 0,\n",
      "                    \"sentiment\": \"neutral\",\n",
      "                    \"text\": \"Hello world.\"\n",
      "                },\n",
      "                {\n",
      "                    \"confidenceScores\": {\n",
      "                        \"negative\": 0.0,\n",
      "                        \"neutral\": 0.0,\n",
      "                        \"positive\": 1.0\n",
      "                    },\n",
      "                    \"length\": 36,\n",
      "                    \"offset\": 13,\n",
      "                    \"sentiment\": \"positive\",\n",
      "                    \"text\": \"This is some input text that I love.\"\n",
      "                }\n",
      "            ],\n",
      "            \"sentiment\": \"positive\",\n",
      "            \"warnings\": []\n",
      "        },\n",
      "        {\n",
      "            \"confidenceScores\": {\n",
      "                \"negative\": 0.0,\n",
      "                \"neutral\": 0.02,\n",
      "                \"positive\": 0.98\n",
      "            },\n",
      "            \"id\": \"2-en\",\n",
      "            \"sentences\": [\n",
      "                {\n",
      "                    \"confidenceScores\": {\n",
      "                        \"negative\": 0.01,\n",
      "                        \"neutral\": 0.94,\n",
      "                        \"positive\": 0.05\n",
      "                    },\n",
      "                    \"length\": 30,\n",
      "                    \"offset\": 0,\n",
      "                    \"sentiment\": \"neutral\",\n",
      "                    \"text\": \"It's incredibly sunny outside!\"\n",
      "                },\n",
      "                {\n",
      "                    \"confidenceScores\": {\n",
      "                        \"negative\": 0.0,\n",
      "                        \"neutral\": 0.02,\n",
      "                        \"positive\": 0.98\n",
      "                    },\n",
      "                    \"length\": 13,\n",
      "                    \"offset\": 31,\n",
      "                    \"sentiment\": \"positive\",\n",
      "                    \"text\": \"I'm so happy.\"\n",
      "                }\n",
      "            ],\n",
      "            \"sentiment\": \"positive\",\n",
      "            \"warnings\": []\n",
      "        },\n",
      "        {\n",
      "            \"confidenceScores\": {\n",
      "                \"negative\": 0.0,\n",
      "                \"neutral\": 0.0,\n",
      "                \"positive\": 1.0\n",
      "            },\n",
      "            \"id\": \"3-en\",\n",
      "            \"sentences\": [\n",
      "                {\n",
      "                    \"confidenceScores\": {\n",
      "                        \"negative\": 0.0,\n",
      "                        \"neutral\": 0.0,\n",
      "                        \"positive\": 1.0\n",
      "                    },\n",
      "                    \"length\": 52,\n",
      "                    \"offset\": 0,\n",
      "                    \"sentiment\": \"positive\",\n",
      "                    \"text\": \"Pike place market is my favorite Seattle attraction.\"\n",
      "                }\n",
      "            ],\n",
      "            \"sentiment\": \"positive\",\n",
      "            \"warnings\": []\n",
      "        }\n",
      "    ],\n",
      "    \"errors\": [],\n",
      "    \"modelVersion\": \"2019-10-01\"\n",
      "}\n"
     ]
    }
   ],
   "source": [
    "print(json.dumps(json.loads(response.content), indent=4, sort_keys=True))"
   ]
  },
  {
   "cell_type": "markdown",
   "id": "ec1813df",
   "metadata": {},
   "source": [
    "## Output by Document"
   ]
  },
  {
   "cell_type": "code",
   "execution_count": 15,
   "id": "ce388bc8",
   "metadata": {},
   "outputs": [
    {
     "data": {
      "text/plain": [
       "{'id': '1-en',\n",
       " 'sentiment': 'positive',\n",
       " 'confidenceScores': {'positive': 1.0, 'neutral': 0.0, 'negative': 0.0},\n",
       " 'sentences': [{'sentiment': 'neutral',\n",
       "   'confidenceScores': {'positive': 0.02, 'neutral': 0.97, 'negative': 0.01},\n",
       "   'offset': 0,\n",
       "   'length': 12,\n",
       "   'text': 'Hello world.'},\n",
       "  {'sentiment': 'positive',\n",
       "   'confidenceScores': {'positive': 1.0, 'neutral': 0.0, 'negative': 0.0},\n",
       "   'offset': 13,\n",
       "   'length': 36,\n",
       "   'text': 'This is some input text that I love.'}],\n",
       " 'warnings': []}"
      ]
     },
     "execution_count": 15,
     "metadata": {},
     "output_type": "execute_result"
    }
   ],
   "source": [
    "json.loads(response.content)['documents'][0]"
   ]
  },
  {
   "cell_type": "markdown",
   "id": "c490c509",
   "metadata": {},
   "source": [
    "## Sentiment Analysis by Document"
   ]
  },
  {
   "cell_type": "code",
   "execution_count": 16,
   "id": "36d684dc",
   "metadata": {},
   "outputs": [
    {
     "data": {
      "text/plain": [
       "{'positive': 1.0, 'neutral': 0.0, 'negative': 0.0}"
      ]
     },
     "execution_count": 16,
     "metadata": {},
     "output_type": "execute_result"
    }
   ],
   "source": [
    "json.loads(response.content)['documents'][0]['confidenceScores']"
   ]
  },
  {
   "cell_type": "markdown",
   "id": "47c181c7",
   "metadata": {},
   "source": [
    "## Sentiment Analysis by Sentence for a given Document"
   ]
  },
  {
   "cell_type": "code",
   "execution_count": 17,
   "id": "e5a2cf32",
   "metadata": {},
   "outputs": [
    {
     "data": {
      "text/plain": [
       "[{'sentiment': 'neutral',\n",
       "  'confidenceScores': {'positive': 0.02, 'neutral': 0.97, 'negative': 0.01},\n",
       "  'offset': 0,\n",
       "  'length': 12,\n",
       "  'text': 'Hello world.'},\n",
       " {'sentiment': 'positive',\n",
       "  'confidenceScores': {'positive': 1.0, 'neutral': 0.0, 'negative': 0.0},\n",
       "  'offset': 13,\n",
       "  'length': 36,\n",
       "  'text': 'This is some input text that I love.'}]"
      ]
     },
     "execution_count": 17,
     "metadata": {},
     "output_type": "execute_result"
    }
   ],
   "source": [
    "json.loads(response.content)['documents'][0]['sentences']"
   ]
  }
 ],
 "metadata": {
  "kernelspec": {
   "display_name": "Python 3",
   "language": "python",
   "name": "python3"
  },
  "language_info": {
   "codemirror_mode": {
    "name": "ipython",
    "version": 3
   },
   "file_extension": ".py",
   "mimetype": "text/x-python",
   "name": "python",
   "nbconvert_exporter": "python",
   "pygments_lexer": "ipython3",
   "version": "3.8.8"
  }
 },
 "nbformat": 4,
 "nbformat_minor": 5
}
